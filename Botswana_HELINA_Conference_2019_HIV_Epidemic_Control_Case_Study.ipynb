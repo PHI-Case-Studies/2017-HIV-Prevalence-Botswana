{
 "cells": [
  {
   "cell_type": "markdown",
   "metadata": {},
   "source": [
    "## “I do and I understand”: Unlocking the data science potential of the public health workforce through digital case studies"
   ]
  },
  {
   "cell_type": "markdown",
   "metadata": {},
   "source": [
    "## Workshop authors"
   ]
  },
  {
   "cell_type": "markdown",
   "metadata": {},
   "source": [
    "#### Herman Tolentino, James Tobias, Jan MacGregor, Zhanar Haimovich, Briana Lozano, Chris Serumola, James Kariuki"
   ]
  },
  {
   "cell_type": "markdown",
   "metadata": {},
   "source": [
    "## Background"
   ]
  },
  {
   "cell_type": "markdown",
   "metadata": {},
   "source": [
    "Data and information are the lifeblood of public health. Rapid advances in information and communications technology are creating profound changes in how public health workforce collects, manages, shares, analyzes and uses data and information, at the molecular, organ, patient and population levels, to inform decision-making and improve health outcomes. Designing, implementing and reproducing these value-generating processes require inter-disciplinary knowledge and skills, collaborative problem solving and systems thinking. Case studies have been used in many disciplines (health sciences, social sciences, engineering and law), to create opportunities to provide learners with immersive environments in which to apply these problem solving skills. Digital case studies provide the additional benefits of interactivity and reproducibility to data science problems. Educators new to adoption of digital case studies may be faced with challenges understanding the ecosystem of tools that can be used before even starting to develop digital case studies. This workshop introduces participants to development and use of digital case studies in public health using Jupyter Notebook, an open source data science platform for working with reproducible, shareable computational narratives about problem solving in public health informatics."
   ]
  },
  {
   "cell_type": "markdown",
   "metadata": {},
   "source": [
    "## Workshop Goals"
   ]
  },
  {
   "cell_type": "markdown",
   "metadata": {},
   "source": [
    "1.\tProvide overview of digital case study development\n",
    "2.\tDescribe open source tools and resources for developing digital case studies\n",
    "3.\tWalk through selected digital case studies to simulate a typical digital case study workflow and demonstrate application of digital case studies in different topic areas\n",
    "4.\tProvide a gamified immersion experience through facilitated group work and hands on with an unknown case\n"
   ]
  },
  {
   "cell_type": "markdown",
   "metadata": {},
   "source": [
    "## Participants"
   ]
  },
  {
   "cell_type": "markdown",
   "metadata": {},
   "source": [
    "Public health professionals, educators, practitioners interested in learning more about developing and using digital case studies for their use cases"
   ]
  },
  {
   "cell_type": "markdown",
   "metadata": {},
   "source": [
    "## Workshop Process"
   ]
  },
  {
   "cell_type": "markdown",
   "metadata": {},
   "source": [
    "1.\tPre-workshop orientation webinar (pre-recorded) and pre-work (account creation, case study access and reading assignments)\n",
    "2.\tRegistration, group assignment and distribution of information and workshop materials\n",
    "3.\tIntroduction to workshop (Herman Tolentino)\n",
    "4.\tShort presentations on (a) overview of digital case study development, tools, resources and guidelines (Jan MacGregor); (b) overview of selected case studies to be used for simulation (Herman Tolentino); (c) timeline and workflow for the  digital case study workshop\n",
    "5.\tWalk throughs with workshop participants\n",
    "    a.\tInteroperability / Fast Healthcare Interoperability  Resources (James Kariuki, Herman Tolentino)\n",
    "    b.\t1854 Cholera Outbreak in London – Beyond Points on a Map to Street Networks (Zhanar Haimovich, Briana Lozano)\n",
    "    c.\tFacilitated group work and hands on using the Botswana HIV Prevalence Case Study (Briana Lozano, James Tobias, Author X)\n",
    "6.\tReflection, feedback/evaluation and next steps (Herman Tolentino)\n"
   ]
  },
  {
   "cell_type": "markdown",
   "metadata": {},
   "source": [
    "## Show picture of Cholera pics "
   ]
  },
  {
   "cell_type": "code",
   "execution_count": null,
   "metadata": {},
   "outputs": [],
   "source": []
  },
  {
   "cell_type": "markdown",
   "metadata": {},
   "source": [
    "## Workshop Description ?"
   ]
  },
  {
   "cell_type": "markdown",
   "metadata": {},
   "source": [
    "Participants will be guided through the creation of a case study using Jupyter Notebook. A case study using public available Botswana HIV prevalence data will be developed and separated into various components like “puzzle pieces”. Workshop participants will be divided into teams and tasked with developing a comprehensive picture of the HIV prevalence impact in Botswana by putting the puzzle pieces together. Ultimately, there may be multiple versions of this case study that will be narrated and presented by individual teams. Resulting in participants gaining hand-on experience for problem solving using Jupyter notebook."
   ]
  },
  {
   "cell_type": "markdown",
   "metadata": {},
   "source": [
    "## Reading Assignments"
   ]
  },
  {
   "cell_type": "markdown",
   "metadata": {},
   "source": [
    "Open a Chrome web browser and go to the nbviewer:    https://nbviewer.jupyter.org/\n",
    "Copy this URL:   https://github.com/PHI-Case-Studies/2018-GEEKS-Digital-Case-Study-Intro/blob/master/NB01-GEEKS-Case-Study-Introduction.ipynb\n",
    "Paste the URL into the nbviewer text box and click Go !\n"
   ]
  },
  {
   "cell_type": "markdown",
   "metadata": {},
   "source": [
    "## References"
   ]
  },
  {
   "cell_type": "markdown",
   "metadata": {},
   "source": [
    "### Case-based learning"
   ]
  },
  {
   "cell_type": "markdown",
   "metadata": {},
   "source": [
    "Tolentino, Herman, et al. \"Case-based learning in public health informatics.\" Public Health Informatics and Information Systems. Springer, London, 2014. 489-510."
   ]
  },
  {
   "cell_type": "markdown",
   "metadata": {},
   "source": [
    "### Anaconda, Python, Jupyter Notebook"
   ]
  },
  {
   "cell_type": "markdown",
   "metadata": {},
   "source": [
    "Anaconda Software Distribution. Computer software. Vers. 5.2 Windows Anaconda, Nov. 2016.  URL:  https://anaconda.com and https://www.anaconda.com/community/ \n",
    "Python Core Team (2015). Python: A dynamic, open source programming language. Python Software Foundation. URL https://www.python.org/.\n",
    "\n",
    "Kluyver et. al. 2016.  Jupyter Notebooks – a publishing format for reproducible computational workflows.   Open Access IOS Press.   URL: http://ebooks.iospress.nl/publication/42900\n",
    "Randles et. al.  2018.   Using the Jupyter Notebook as a Tool for Open Science:  An Empirical Study.   URL:  https://arxiv.org/ftp/arxiv/papers/1804/1804.05492.pdf  \n"
   ]
  },
  {
   "cell_type": "markdown",
   "metadata": {},
   "source": [
    "### Cholera, HIV/AIDS"
   ]
  },
  {
   "cell_type": "markdown",
   "metadata": {},
   "source": [
    "Johnson, Steven.  2006.  How the “ghost map” helped end a killer disease.  TED Talk.  November 2006.  URL:  https://www.ted.com/talks/steven_johnson_tours_the_ghost_map?language=en\n",
    "\n",
    "Lynch, Peter.  2017.  How Voronoi diagrams help us understand our world.   The Irish Times.  Monday Jan 23, 2017.  URL:  https://www.irishtimes.com/news/science/how-voronoi-diagrams-help-us-understand-our-world-1.2947681\n"
   ]
  },
  {
   "cell_type": "markdown",
   "metadata": {},
   "source": [
    "## DATA SOURCES"
   ]
  },
  {
   "cell_type": "markdown",
   "metadata": {},
   "source": [
    "1.  Botswana AIDS Impact Survey 2013:\n",
    "    URL:  http://www.stats.bots.org.bw/sites/default/files/publications/BOTSWANA%20AIDS%20IMPACT%20SURVEY%20IV%202013.pdf\n",
    "    \n",
    "2.  Botswana Master Facility List:\n",
    "    URL:  https://data.humdata.org/dataset/botswana-healthsites\n",
    "\n",
    "3.  OpenStreetMap data for Botswana:\n",
    "    URL:  http://download.geofabrik.de/africa/botswana.html\n",
    "\n",
    "4.  GADM.org shapefiles:\n",
    "    URL:  https://gadm.org/download_country_v3.html\n",
    "    "
   ]
  }
 ],
 "metadata": {
  "kernelspec": {
   "display_name": "Python 3",
   "language": "python",
   "name": "python3"
  },
  "language_info": {
   "codemirror_mode": {
    "name": "ipython",
    "version": 3
   },
   "file_extension": ".py",
   "mimetype": "text/x-python",
   "name": "python",
   "nbconvert_exporter": "python",
   "pygments_lexer": "ipython3",
   "version": "3.6.7"
  }
 },
 "nbformat": 4,
 "nbformat_minor": 2
}
