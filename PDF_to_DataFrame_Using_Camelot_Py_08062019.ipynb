{
  "cells": [
    {
      "metadata": {
        "trusted": true
      },
      "cell_type": "code",
      "source": "import pandas as pd",
      "execution_count": 1,
      "outputs": []
    },
    {
      "metadata": {
        "trusted": true
      },
      "cell_type": "code",
      "source": "!pip install opencv-contrib-python",
      "execution_count": 2,
      "outputs": [
        {
          "output_type": "stream",
          "text": "Collecting opencv-contrib-python\n\u001b[?25l  Downloading https://files.pythonhosted.org/packages/af/0a/50a827d13a75754a8500fa854517f09886027005b09ac5210dca9f0aa101/opencv_contrib_python-4.1.0.25-cp36-cp36m-manylinux1_x86_64.whl (32.6MB)\n\u001b[K     |████████████████████████████████| 32.6MB 33kB/s  eta 0:00:01    |▌                               | 471kB 5.8MB/s eta 0:00:06\n\u001b[?25hRequirement already satisfied: numpy>=1.11.3 in /home/nbuser/anaconda3_501/lib/python3.6/site-packages (from opencv-contrib-python) (1.16.2)\nInstalling collected packages: opencv-contrib-python\nSuccessfully installed opencv-contrib-python-4.1.0.25\n\u001b[33mWARNING: You are using pip version 19.1.1, however version 19.2.1 is available.\nYou should consider upgrading via the 'pip install --upgrade pip' command.\u001b[0m\n",
          "name": "stdout"
        }
      ]
    },
    {
      "metadata": {
        "trusted": true
      },
      "cell_type": "code",
      "source": "!pip install camelot-py",
      "execution_count": 3,
      "outputs": [
        {
          "output_type": "stream",
          "text": "Collecting camelot-py\n\u001b[?25l  Downloading https://files.pythonhosted.org/packages/70/d6/a47894242a6fba58a2332489358afedc6209da43942ab7f850b932019101/camelot_py-0.7.3-py3-none-any.whl (42kB)\n\u001b[K     |████████████████████████████████| 51kB 2.5MB/s eta 0:00:011\n\u001b[?25hRequirement already satisfied: pandas>=0.23.4 in /home/nbuser/anaconda3_501/lib/python3.6/site-packages (from camelot-py) (0.23.4)\nRequirement already satisfied: numpy>=1.13.3 in /home/nbuser/anaconda3_501/lib/python3.6/site-packages (from camelot-py) (1.16.2)\nCollecting PyPDF2>=1.26.0 (from camelot-py)\n\u001b[?25l  Downloading https://files.pythonhosted.org/packages/b4/01/68fcc0d43daf4c6bdbc6b33cc3f77bda531c86b174cac56ef0ffdb96faab/PyPDF2-1.26.0.tar.gz (77kB)\n\u001b[K     |████████████████████████████████| 81kB 12.7MB/s eta 0:00:01\n\u001b[?25hRequirement already satisfied: click>=6.7 in /home/nbuser/anaconda3_501/lib/python3.6/site-packages (from camelot-py) (7.0)\nRequirement already satisfied: openpyxl>=2.5.8 in /home/nbuser/anaconda3_501/lib/python3.6/site-packages (from camelot-py) (2.5.8)\nCollecting pdfminer.six>=20170720 (from camelot-py)\n\u001b[?25l  Downloading https://files.pythonhosted.org/packages/8a/fd/6e8746e6965d1a7ea8e97253e3d79e625da5547e8f376f88de5d024bacb9/pdfminer.six-20181108-py2.py3-none-any.whl (5.6MB)\n\u001b[K     |████████████████████████████████| 5.6MB 4.7MB/s eta 0:00:01\n\u001b[?25hRequirement already satisfied: chardet>=3.0.4 in /home/nbuser/anaconda3_501/lib/python3.6/site-packages (from camelot-py) (3.0.4)\nRequirement already satisfied: pytz>=2011k in /home/nbuser/anaconda3_501/lib/python3.6/site-packages (from pandas>=0.23.4->camelot-py) (2018.7)\nRequirement already satisfied: python-dateutil>=2.5.0 in /home/nbuser/anaconda3_501/lib/python3.6/site-packages (from pandas>=0.23.4->camelot-py) (2.8.0)\nRequirement already satisfied: jdcal in /home/nbuser/anaconda3_501/lib/python3.6/site-packages (from openpyxl>=2.5.8->camelot-py) (1.4)\nRequirement already satisfied: et-xmlfile in /home/nbuser/anaconda3_501/lib/python3.6/site-packages (from openpyxl>=2.5.8->camelot-py) (1.0.1)\nRequirement already satisfied: sortedcontainers in /home/nbuser/anaconda3_501/lib/python3.6/site-packages (from pdfminer.six>=20170720->camelot-py) (2.0.5)\nRequirement already satisfied: six in /home/nbuser/anaconda3_501/lib/python3.6/site-packages (from pdfminer.six>=20170720->camelot-py) (1.11.0)\nCollecting pycryptodome (from pdfminer.six>=20170720->camelot-py)\n\u001b[?25l  Downloading https://files.pythonhosted.org/packages/9f/2a/d4f6b8802cc9b428f285cad6ff486ecacc8d3ae7c8cdccaae26359ccac4e/pycryptodome-3.8.2-cp36-cp36m-manylinux1_x86_64.whl (9.6MB)\n\u001b[K     |████████████████████████████████| 9.6MB 19.2MB/s eta 0:00:01\n\u001b[?25hBuilding wheels for collected packages: PyPDF2\n  Building wheel for PyPDF2 (setup.py) ... \u001b[?25ldone\n\u001b[?25h  Stored in directory: /home/nbuser/.cache/pip/wheels/53/84/19/35bc977c8bf5f0c23a8a011aa958acd4da4bbd7a229315c1b7\nSuccessfully built PyPDF2\nInstalling collected packages: PyPDF2, pycryptodome, pdfminer.six, camelot-py\nSuccessfully installed PyPDF2-1.26.0 camelot-py-0.7.3 pdfminer.six-20181108 pycryptodome-3.8.2\n\u001b[33mWARNING: You are using pip version 19.1.1, however version 19.2.1 is available.\nYou should consider upgrading via the 'pip install --upgrade pip' command.\u001b[0m\n",
          "name": "stdout"
        }
      ]
    },
    {
      "metadata": {
        "trusted": true,
        "scrolled": true
      },
      "cell_type": "code",
      "source": "import camelot",
      "execution_count": 4,
      "outputs": []
    },
    {
      "metadata": {
        "trusted": true
      },
      "cell_type": "code",
      "source": "tables = camelot.read_pdf('./resources/foo.pdf')\n%time",
      "execution_count": 5,
      "outputs": [
        {
          "output_type": "stream",
          "text": "CPU times: user 2 µs, sys: 3 µs, total: 5 µs\nWall time: 12.6 µs\n",
          "name": "stdout"
        }
      ]
    },
    {
      "metadata": {
        "trusted": true
      },
      "cell_type": "code",
      "source": "tables",
      "execution_count": 6,
      "outputs": [
        {
          "output_type": "execute_result",
          "execution_count": 6,
          "data": {
            "text/plain": "<TableList n=1>"
          },
          "metadata": {}
        }
      ]
    },
    {
      "metadata": {
        "trusted": true
      },
      "cell_type": "code",
      "source": "tables.export('foo.csv', f='csv', compress=True) #json, excel, html",
      "execution_count": 7,
      "outputs": []
    },
    {
      "metadata": {
        "trusted": true
      },
      "cell_type": "code",
      "source": "tables[0].parsing_report",
      "execution_count": 8,
      "outputs": [
        {
          "output_type": "execute_result",
          "execution_count": 8,
          "data": {
            "text/plain": "{'accuracy': 99.02, 'whitespace': 12.24, 'order': 1, 'page': 1}"
          },
          "metadata": {}
        }
      ]
    },
    {
      "metadata": {
        "trusted": true
      },
      "cell_type": "code",
      "source": "tables[0].to_csv('foo.csv') # to json, to_excel, to_html",
      "execution_count": 9,
      "outputs": []
    },
    {
      "metadata": {
        "trusted": true
      },
      "cell_type": "code",
      "source": "tables[0].df",
      "execution_count": 10,
      "outputs": [
        {
          "output_type": "execute_result",
          "execution_count": 10,
          "data": {
            "text/html": "<div>\n<style scoped>\n    .dataframe tbody tr th:only-of-type {\n        vertical-align: middle;\n    }\n\n    .dataframe tbody tr th {\n        vertical-align: top;\n    }\n\n    .dataframe thead th {\n        text-align: right;\n    }\n</style>\n<table border=\"1\" class=\"dataframe\">\n  <thead>\n    <tr style=\"text-align: right;\">\n      <th></th>\n      <th>0</th>\n      <th>1</th>\n      <th>2</th>\n      <th>3</th>\n      <th>4</th>\n      <th>5</th>\n      <th>6</th>\n    </tr>\n  </thead>\n  <tbody>\n    <tr>\n      <th>0</th>\n      <td>Cycle \\nName</td>\n      <td>KI \\n(1/km)</td>\n      <td>Distance \\n(mi)</td>\n      <td>Percent Fuel Savings</td>\n      <td></td>\n      <td></td>\n      <td></td>\n    </tr>\n    <tr>\n      <th>1</th>\n      <td></td>\n      <td></td>\n      <td></td>\n      <td>Improved \\nSpeed</td>\n      <td>Decreased \\nAccel</td>\n      <td>Eliminate \\nStops</td>\n      <td>Decreased \\nIdle</td>\n    </tr>\n    <tr>\n      <th>2</th>\n      <td>2012_2</td>\n      <td>3.30</td>\n      <td>1.3</td>\n      <td>5.9%</td>\n      <td>9.5%</td>\n      <td>29.2%</td>\n      <td>17.4%</td>\n    </tr>\n    <tr>\n      <th>3</th>\n      <td>2145_1</td>\n      <td>0.68</td>\n      <td>11.2</td>\n      <td>2.4%</td>\n      <td>0.1%</td>\n      <td>9.5%</td>\n      <td>2.7%</td>\n    </tr>\n    <tr>\n      <th>4</th>\n      <td>4234_1</td>\n      <td>0.59</td>\n      <td>58.7</td>\n      <td>8.5%</td>\n      <td>1.3%</td>\n      <td>8.5%</td>\n      <td>3.3%</td>\n    </tr>\n    <tr>\n      <th>5</th>\n      <td>2032_2</td>\n      <td>0.17</td>\n      <td>57.8</td>\n      <td>21.7%</td>\n      <td>0.3%</td>\n      <td>2.7%</td>\n      <td>1.2%</td>\n    </tr>\n    <tr>\n      <th>6</th>\n      <td>4171_1</td>\n      <td>0.07</td>\n      <td>173.9</td>\n      <td>58.1%</td>\n      <td>1.6%</td>\n      <td>2.1%</td>\n      <td>0.5%</td>\n    </tr>\n  </tbody>\n</table>\n</div>",
            "text/plain": "              0            1                2                     3  \\\n0  Cycle \\nName  KI \\n(1/km)  Distance \\n(mi)  Percent Fuel Savings   \n1                                                  Improved \\nSpeed   \n2        2012_2         3.30              1.3                  5.9%   \n3        2145_1         0.68             11.2                  2.4%   \n4        4234_1         0.59             58.7                  8.5%   \n5        2032_2         0.17             57.8                 21.7%   \n6        4171_1         0.07            173.9                 58.1%   \n\n                   4                  5                 6  \n0                                                          \n1  Decreased \\nAccel  Eliminate \\nStops  Decreased \\nIdle  \n2               9.5%              29.2%             17.4%  \n3               0.1%               9.5%              2.7%  \n4               1.3%               8.5%              3.3%  \n5               0.3%               2.7%              1.2%  \n6               1.6%               2.1%              0.5%  "
          },
          "metadata": {}
        }
      ]
    },
    {
      "metadata": {
        "trusted": true
      },
      "cell_type": "code",
      "source": "tables2 = camelot.read_pdf('./resources/BAIS2013.pdf', flavor='stream', pages='34, 36, 38, 40, 46, 48, 49, 50-260', flag_size=True)\ntables2[0].df\n%time",
      "execution_count": null,
      "outputs": [
        {
          "output_type": "stream",
          "text": "UserWarning: No tables found in table area 1 [stream.py:361]\n",
          "name": "stderr"
        }
      ]
    },
    {
      "metadata": {
        "trusted": true
      },
      "cell_type": "code",
      "source": "tables2",
      "execution_count": null,
      "outputs": []
    },
    {
      "metadata": {
        "trusted": true
      },
      "cell_type": "code",
      "source": "tables2.export('BAIS2013_all.csv', f='csv', compress=True) #json, excel, html",
      "execution_count": null,
      "outputs": []
    },
    {
      "metadata": {
        "trusted": true
      },
      "cell_type": "code",
      "source": "tables2[0].parsing_report",
      "execution_count": null,
      "outputs": []
    },
    {
      "metadata": {
        "trusted": true
      },
      "cell_type": "code",
      "source": "",
      "execution_count": null,
      "outputs": []
    }
  ],
  "metadata": {
    "kernelspec": {
      "name": "python36",
      "display_name": "Python 3.6",
      "language": "python"
    },
    "language_info": {
      "mimetype": "text/x-python",
      "nbconvert_exporter": "python",
      "name": "python",
      "pygments_lexer": "ipython3",
      "version": "3.6.6",
      "file_extension": ".py",
      "codemirror_mode": {
        "version": 3,
        "name": "ipython"
      }
    }
  },
  "nbformat": 4,
  "nbformat_minor": 2
}