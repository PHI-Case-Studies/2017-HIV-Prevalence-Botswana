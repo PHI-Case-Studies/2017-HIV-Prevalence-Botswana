{
 "cells": [
  {
   "cell_type": "code",
   "execution_count": 6,
   "metadata": {},
   "outputs": [],
   "source": [
    "%run resources/library.py"
   ]
  },
  {
   "cell_type": "code",
   "execution_count": 7,
   "metadata": {},
   "outputs": [
    {
     "data": {
      "text/html": [
       "<style> \n",
       "div.text_cell_render { /* Customize text cells */ \n",
       "    font-family: 'Arial'; \n",
       "    font-size:20px;\n",
       "    line-height: 1.5em;\n",
       "    padding-left:3em; \n",
       "    padding-right:3em; \n",
       "}\n",
       ".CodeMirror {\n",
       "    font-family:  'Source Code Pro', monospace;\n",
       "    font-size: 18px;\n",
       "}\n",
       "\n",
       "/* Cell output */\n",
       "\n",
       ".rendered_html pre, .rendered_html code {\n",
       "    color: inherit !important;\n",
       "    background-color: inherit !important;\n",
       "}\n",
       "div.output_area pre {\n",
       "    line-height: 1.2em;\n",
       "    color: #93a1a1 !important;\n",
       "    font-family: 'Source Code Pro', monospace;\n",
       "    font-size: 16px;\n",
       "}\n",
       ".rendered_html table, .rendered_html td, .rendered_html th {\n",
       "    border: 1px solid #586e75 !important;\n",
       "    font-family: 'Arial';\n",
       "    font-size: 16px;\n",
       "}\n",
       "</style>"
      ],
      "text/plain": [
       "<IPython.core.display.HTML object>"
      ]
     },
     "execution_count": 7,
     "metadata": {},
     "output_type": "execute_result"
    }
   ],
   "source": [
    "style_notebook()"
   ]
  },
  {
   "cell_type": "markdown",
   "metadata": {},
   "source": [
    "## Welcome to Notebook 2 of the HELINA Workshop"
   ]
  },
  {
   "cell_type": "markdown",
   "metadata": {},
   "source": [
    "To better understand the HIV epidemic in Botswana, we will first look at the \"person\" building block. Using Table 5 of the Population & Housing Census 2011 report, we're going to build a population pyramid. After reading the \"pickle\" of table 5 that we created in notebook 1, we will build the first data visualization using the table5 dataframe. \n",
    "\n",
    "First, we will import the libraries (remember Pandas, the Siwss Army Knife?), read the pickle file for the table5 data frame, then display the data frame. "
   ]
  },
  {
   "cell_type": "code",
   "execution_count": 8,
   "metadata": {},
   "outputs": [],
   "source": [
    "import os\n",
    "import pickle\n",
    "import pandas as pd"
   ]
  },
  {
   "cell_type": "code",
   "execution_count": 9,
   "metadata": {},
   "outputs": [],
   "source": [
    "tableCensusPop = pd.read_pickle('outputs/tableCensusPop_pickle.pkl')"
   ]
  },
  {
   "cell_type": "code",
   "execution_count": 10,
   "metadata": {
    "scrolled": true
   },
   "outputs": [
    {
     "data": {
      "text/html": [
       "<div>\n",
       "<style scoped>\n",
       "    .dataframe tbody tr th:only-of-type {\n",
       "        vertical-align: middle;\n",
       "    }\n",
       "\n",
       "    .dataframe tbody tr th {\n",
       "        vertical-align: top;\n",
       "    }\n",
       "\n",
       "    .dataframe thead th {\n",
       "        text-align: right;\n",
       "    }\n",
       "</style>\n",
       "<table border=\"1\" class=\"dataframe\">\n",
       "  <thead>\n",
       "    <tr style=\"text-align: right;\">\n",
       "      <th></th>\n",
       "      <th>AgeGroup</th>\n",
       "      <th>MalePop</th>\n",
       "      <th>MalePct</th>\n",
       "      <th>FemalePop</th>\n",
       "      <th>FemalePct</th>\n",
       "      <th>Total</th>\n",
       "    </tr>\n",
       "  </thead>\n",
       "  <tbody>\n",
       "    <tr>\n",
       "      <th>2</th>\n",
       "      <td>0-4</td>\n",
       "      <td>-120046</td>\n",
       "      <td>-50.6</td>\n",
       "      <td>117341</td>\n",
       "      <td>49.4</td>\n",
       "      <td>237387</td>\n",
       "    </tr>\n",
       "    <tr>\n",
       "      <th>3</th>\n",
       "      <td>5-9</td>\n",
       "      <td>-108561</td>\n",
       "      <td>-50.5</td>\n",
       "      <td>106622</td>\n",
       "      <td>49.5</td>\n",
       "      <td>215183</td>\n",
       "    </tr>\n",
       "    <tr>\n",
       "      <th>4</th>\n",
       "      <td>10-14</td>\n",
       "      <td>-104468</td>\n",
       "      <td>-50.4</td>\n",
       "      <td>102976</td>\n",
       "      <td>49.6</td>\n",
       "      <td>207444</td>\n",
       "    </tr>\n",
       "    <tr>\n",
       "      <th>5</th>\n",
       "      <td>15 -19</td>\n",
       "      <td>-104847</td>\n",
       "      <td>-49.7</td>\n",
       "      <td>105956</td>\n",
       "      <td>50.3</td>\n",
       "      <td>210803</td>\n",
       "    </tr>\n",
       "    <tr>\n",
       "      <th>6</th>\n",
       "      <td>20-24</td>\n",
       "      <td>-97270</td>\n",
       "      <td>-48.6</td>\n",
       "      <td>103045</td>\n",
       "      <td>51.4</td>\n",
       "      <td>200315</td>\n",
       "    </tr>\n",
       "    <tr>\n",
       "      <th>7</th>\n",
       "      <td>25-29</td>\n",
       "      <td>-101193</td>\n",
       "      <td>-48.7</td>\n",
       "      <td>106576</td>\n",
       "      <td>51.3</td>\n",
       "      <td>207769</td>\n",
       "    </tr>\n",
       "    <tr>\n",
       "      <th>8</th>\n",
       "      <td>30-34</td>\n",
       "      <td>-84507</td>\n",
       "      <td>-49.6</td>\n",
       "      <td>85989</td>\n",
       "      <td>50.4</td>\n",
       "      <td>170496</td>\n",
       "    </tr>\n",
       "    <tr>\n",
       "      <th>9</th>\n",
       "      <td>35-39</td>\n",
       "      <td>-68438</td>\n",
       "      <td>-50.6</td>\n",
       "      <td>66765</td>\n",
       "      <td>49.4</td>\n",
       "      <td>135203</td>\n",
       "    </tr>\n",
       "    <tr>\n",
       "      <th>10</th>\n",
       "      <td>40-44</td>\n",
       "      <td>-48757</td>\n",
       "      <td>-49.1</td>\n",
       "      <td>50494</td>\n",
       "      <td>50.9</td>\n",
       "      <td>99251</td>\n",
       "    </tr>\n",
       "    <tr>\n",
       "      <th>11</th>\n",
       "      <td>45-49</td>\n",
       "      <td>-37879</td>\n",
       "      <td>-46.1</td>\n",
       "      <td>44358</td>\n",
       "      <td>53.9</td>\n",
       "      <td>82237</td>\n",
       "    </tr>\n",
       "    <tr>\n",
       "      <th>12</th>\n",
       "      <td>50-54</td>\n",
       "      <td>-29737</td>\n",
       "      <td>-44.8</td>\n",
       "      <td>36616</td>\n",
       "      <td>55.2</td>\n",
       "      <td>66353</td>\n",
       "    </tr>\n",
       "    <tr>\n",
       "      <th>13</th>\n",
       "      <td>55-59</td>\n",
       "      <td>-24363</td>\n",
       "      <td>-45.1</td>\n",
       "      <td>29685</td>\n",
       "      <td>54.9</td>\n",
       "      <td>54048</td>\n",
       "    </tr>\n",
       "    <tr>\n",
       "      <th>14</th>\n",
       "      <td>60-64</td>\n",
       "      <td>-17343</td>\n",
       "      <td>-46.2</td>\n",
       "      <td>20235</td>\n",
       "      <td>53.8</td>\n",
       "      <td>37578</td>\n",
       "    </tr>\n",
       "    <tr>\n",
       "      <th>15</th>\n",
       "      <td>65-69</td>\n",
       "      <td>-12237</td>\n",
       "      <td>-44.1</td>\n",
       "      <td>15504</td>\n",
       "      <td>55.9</td>\n",
       "      <td>27741</td>\n",
       "    </tr>\n",
       "    <tr>\n",
       "      <th>16</th>\n",
       "      <td>70-74</td>\n",
       "      <td>-9461</td>\n",
       "      <td>-42.5</td>\n",
       "      <td>12788</td>\n",
       "      <td>57.5</td>\n",
       "      <td>22249</td>\n",
       "    </tr>\n",
       "    <tr>\n",
       "      <th>17</th>\n",
       "      <td>75-79</td>\n",
       "      <td>-6963</td>\n",
       "      <td>-38.9</td>\n",
       "      <td>10915</td>\n",
       "      <td>61.1</td>\n",
       "      <td>17878</td>\n",
       "    </tr>\n",
       "    <tr>\n",
       "      <th>18</th>\n",
       "      <td>80-84</td>\n",
       "      <td>-4868</td>\n",
       "      <td>-36.8</td>\n",
       "      <td>8344</td>\n",
       "      <td>63.2</td>\n",
       "      <td>13212</td>\n",
       "    </tr>\n",
       "    <tr>\n",
       "      <th>19</th>\n",
       "      <td>85 and above</td>\n",
       "      <td>-8133</td>\n",
       "      <td>-41.2</td>\n",
       "      <td>11624</td>\n",
       "      <td>58.8</td>\n",
       "      <td>19757</td>\n",
       "    </tr>\n",
       "  </tbody>\n",
       "</table>\n",
       "</div>"
      ],
      "text/plain": [
       "        AgeGroup  MalePop  MalePct  FemalePop  FemalePct   Total\n",
       "2            0-4  -120046    -50.6     117341       49.4  237387\n",
       "3            5-9  -108561    -50.5     106622       49.5  215183\n",
       "4          10-14  -104468    -50.4     102976       49.6  207444\n",
       "5         15 -19  -104847    -49.7     105956       50.3  210803\n",
       "6          20-24   -97270    -48.6     103045       51.4  200315\n",
       "7          25-29  -101193    -48.7     106576       51.3  207769\n",
       "8          30-34   -84507    -49.6      85989       50.4  170496\n",
       "9          35-39   -68438    -50.6      66765       49.4  135203\n",
       "10         40-44   -48757    -49.1      50494       50.9   99251\n",
       "11         45-49   -37879    -46.1      44358       53.9   82237\n",
       "12         50-54   -29737    -44.8      36616       55.2   66353\n",
       "13         55-59   -24363    -45.1      29685       54.9   54048\n",
       "14         60-64   -17343    -46.2      20235       53.8   37578\n",
       "15         65-69   -12237    -44.1      15504       55.9   27741\n",
       "16         70-74    -9461    -42.5      12788       57.5   22249\n",
       "17         75-79    -6963    -38.9      10915       61.1   17878\n",
       "18         80-84    -4868    -36.8       8344       63.2   13212\n",
       "19  85 and above    -8133    -41.2      11624       58.8   19757"
      ]
     },
     "execution_count": 10,
     "metadata": {},
     "output_type": "execute_result"
    }
   ],
   "source": [
    "tableCensusPop"
   ]
  },
  {
   "cell_type": "markdown",
   "metadata": {},
   "source": [
    "Great. Next, we will use matplotlib to build a population pyramid. The cell below will import those libraries."
   ]
  },
  {
   "cell_type": "code",
   "execution_count": 11,
   "metadata": {},
   "outputs": [],
   "source": [
    "import matplotlib.pyplot as plt\n",
    "import matplotlib.transforms as mtrans\n",
    "import numpy as np"
   ]
  },
  {
   "cell_type": "markdown",
   "metadata": {},
   "source": [
    "Now, we'll build the visualization."
   ]
  },
  {
   "cell_type": "code",
   "execution_count": 12,
   "metadata": {},
   "outputs": [],
   "source": [
    "male_pop = np.array(tableCensusPop[\"MalePop\"])\n",
    "female_pop = np.array(tableCensusPop[\"FemalePop\"])\n",
    "min_males = min(male_pop)\n",
    "max_females = max(female_pop)\n",
    "X = tableCensusPop[\"AgeGroup\"]"
   ]
  },
  {
   "cell_type": "code",
   "execution_count": 13,
   "metadata": {},
   "outputs": [
    {
     "name": "stdout",
     "output_type": "stream",
     "text": [
      "-120046\n",
      "117341\n"
     ]
    },
    {
     "data": {
      "image/png": "[encoded data removed]",
      "text/plain": [
       "<Figure size 432x288 with 1 Axes>"
      ]
     },
     "metadata": {
      "needs_background": "light"
     },
     "output_type": "display_data"
    }
   ],
   "source": [
    "fig, (ax0) = plt.subplots(nrows=1)\n",
    "plt.title(\"Population by Sex and 5-year AgeGroup, Males=Blue, Female=Red\")\n",
    "print (min_males)\n",
    "print (max_females)\n",
    "\n",
    "#plt.xlim(-100, 100)\n",
    "plt.xlim(min_males, max_females)\n",
    "#xticks(np.arange(-100, 100, step=10))\n",
    "plt.barh(X, female_pop, color='r')\n",
    "plt.barh(X, male_pop, color='b')\n",
    "\n",
    "# Hide the right and top spines\n",
    "ax0.spines['right'].set_visible(False)\n",
    "ax0.spines['top'].set_visible(False)\n",
    "ax0.spines['bottom'].set_visible(False)\n",
    "ax0.spines['left'].set_visible(False)\n",
    "\n",
    "plt.show()\n",
    "\n"
   ]
  },
  {
   "cell_type": "markdown",
   "metadata": {},
   "source": [
    "### Congratulations !   You have completed the PERSON lego block !"
   ]
  },
  {
   "attachments": {},
   "cell_type": "markdown",
   "metadata": {},
   "source": [
    "![person_lego_block](resources/Person_Lego_block.png)"
   ]
  },
  {
   "cell_type": "markdown",
   "metadata": {},
   "source": [
    "Continue to notebook 3 to build the PLACE lego block....."
   ]
  },
  {
   "cell_type": "code",
   "execution_count": null,
   "metadata": {},
   "outputs": [],
   "source": []
  }
 ],
 "metadata": {
  "kernelspec": {
   "display_name": "Python 3",
   "language": "python",
   "name": "python3"
  },
  "language_info": {
   "codemirror_mode": {
    "name": "ipython",
    "version": 3
   },
   "file_extension": ".py",
   "mimetype": "text/x-python",
   "name": "python",
   "nbconvert_exporter": "python",
   "pygments_lexer": "ipython3",
   "version": "3.7.3"
  }
 },
 "nbformat": 4,
 "nbformat_minor": 4
}
