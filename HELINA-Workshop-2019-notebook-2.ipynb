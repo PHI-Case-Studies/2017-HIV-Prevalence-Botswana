{
 "cells": [
  {
   "cell_type": "markdown",
   "metadata": {},
   "source": [
    "## Welcome to Notebook 2 of the HELINA Workshop"
   ]
  },
  {
   "cell_type": "markdown",
   "metadata": {},
   "source": [
    "#### This notebook will utilize table 5 of the BAIS 2013 report.   We will read the \"pickle\" of table 5 that we created in notebook 1."
   ]
  },
  {
   "cell_type": "markdown",
   "metadata": {},
   "source": [
    "#### We will then build our first data visualization using the table5 dataframe.     We are seeking to build a population pyramid."
   ]
  },
  {
   "cell_type": "markdown",
   "metadata": {},
   "source": [
    "#### First,  we will read our pickle file for the table5 data frame"
   ]
  },
  {
   "cell_type": "code",
   "execution_count": 97,
   "metadata": {},
   "outputs": [],
   "source": [
    "import os\n",
    "import pickle\n",
    "import pandas as pd"
   ]
  },
  {
   "cell_type": "code",
   "execution_count": 98,
   "metadata": {},
   "outputs": [],
   "source": [
    "table5 = pd.read_pickle('table5pickle.pkl')"
   ]
  },
  {
   "cell_type": "code",
   "execution_count": 99,
   "metadata": {},
   "outputs": [
    {
     "data": {
      "text/html": [
       "<div>\n",
       "<style scoped>\n",
       "    .dataframe tbody tr th:only-of-type {\n",
       "        vertical-align: middle;\n",
       "    }\n",
       "\n",
       "    .dataframe tbody tr th {\n",
       "        vertical-align: top;\n",
       "    }\n",
       "\n",
       "    .dataframe thead th {\n",
       "        text-align: right;\n",
       "    }\n",
       "</style>\n",
       "<table border=\"1\" class=\"dataframe\">\n",
       "  <thead>\n",
       "    <tr style=\"text-align: right;\">\n",
       "      <th></th>\n",
       "      <th>AgeGroup</th>\n",
       "      <th>Male</th>\n",
       "      <th>Female</th>\n",
       "      <th>Total</th>\n",
       "    </tr>\n",
       "  </thead>\n",
       "  <tbody>\n",
       "    <tr>\n",
       "      <th>3</th>\n",
       "      <td>1.5 - 4</td>\n",
       "      <td>0.8</td>\n",
       "      <td>1.5</td>\n",
       "      <td>1.2</td>\n",
       "    </tr>\n",
       "    <tr>\n",
       "      <th>4</th>\n",
       "      <td>5-9</td>\n",
       "      <td>3.5</td>\n",
       "      <td>5.1</td>\n",
       "      <td>4.3</td>\n",
       "    </tr>\n",
       "    <tr>\n",
       "      <th>5</th>\n",
       "      <td>10-14</td>\n",
       "      <td>5.5</td>\n",
       "      <td>4.5</td>\n",
       "      <td>5.0</td>\n",
       "    </tr>\n",
       "    <tr>\n",
       "      <th>6</th>\n",
       "      <td>15 - 19</td>\n",
       "      <td>3.6</td>\n",
       "      <td>6.2</td>\n",
       "      <td>5.0</td>\n",
       "    </tr>\n",
       "    <tr>\n",
       "      <th>7</th>\n",
       "      <td>20 - 24</td>\n",
       "      <td>5.0</td>\n",
       "      <td>14.6</td>\n",
       "      <td>10.3</td>\n",
       "    </tr>\n",
       "    <tr>\n",
       "      <th>8</th>\n",
       "      <td>25 - 29</td>\n",
       "      <td>13.2</td>\n",
       "      <td>27.1</td>\n",
       "      <td>21.2</td>\n",
       "    </tr>\n",
       "    <tr>\n",
       "      <th>9</th>\n",
       "      <td>30 - 34</td>\n",
       "      <td>26.8</td>\n",
       "      <td>40.3</td>\n",
       "      <td>34.0</td>\n",
       "    </tr>\n",
       "    <tr>\n",
       "      <th>10</th>\n",
       "      <td>35 - 39</td>\n",
       "      <td>35.2</td>\n",
       "      <td>50.6</td>\n",
       "      <td>43.8</td>\n",
       "    </tr>\n",
       "    <tr>\n",
       "      <th>11</th>\n",
       "      <td>40 - 44</td>\n",
       "      <td>43.8</td>\n",
       "      <td>39.8</td>\n",
       "      <td>41.6</td>\n",
       "    </tr>\n",
       "    <tr>\n",
       "      <th>12</th>\n",
       "      <td>45 - 49</td>\n",
       "      <td>43.0</td>\n",
       "      <td>41.6</td>\n",
       "      <td>42.2</td>\n",
       "    </tr>\n",
       "    <tr>\n",
       "      <th>13</th>\n",
       "      <td>50 - 54</td>\n",
       "      <td>31.5</td>\n",
       "      <td>22.8</td>\n",
       "      <td>26.2</td>\n",
       "    </tr>\n",
       "    <tr>\n",
       "      <th>14</th>\n",
       "      <td>55 - 59</td>\n",
       "      <td>33.0</td>\n",
       "      <td>16.1</td>\n",
       "      <td>22.8</td>\n",
       "    </tr>\n",
       "    <tr>\n",
       "      <th>15</th>\n",
       "      <td>60 - 64</td>\n",
       "      <td>18.2</td>\n",
       "      <td>20.6</td>\n",
       "      <td>19.5</td>\n",
       "    </tr>\n",
       "    <tr>\n",
       "      <th>16</th>\n",
       "      <td>65 +</td>\n",
       "      <td>9.5</td>\n",
       "      <td>10.4</td>\n",
       "      <td>10.0</td>\n",
       "    </tr>\n",
       "    <tr>\n",
       "      <th>17</th>\n",
       "      <td>Total</td>\n",
       "      <td>15.6</td>\n",
       "      <td>20.8</td>\n",
       "      <td>18.5</td>\n",
       "    </tr>\n",
       "  </tbody>\n",
       "</table>\n",
       "</div>"
      ],
      "text/plain": [
       "   AgeGroup  Male Female Total\n",
       "3   1.5 - 4   0.8    1.5   1.2\n",
       "4       5-9   3.5    5.1   4.3\n",
       "5     10-14   5.5    4.5   5.0\n",
       "6   15 - 19   3.6    6.2   5.0\n",
       "7   20 - 24   5.0   14.6  10.3\n",
       "8   25 - 29  13.2   27.1  21.2\n",
       "9   30 - 34  26.8   40.3  34.0\n",
       "10  35 - 39  35.2   50.6  43.8\n",
       "11  40 - 44  43.8   39.8  41.6\n",
       "12  45 - 49  43.0   41.6  42.2\n",
       "13  50 - 54  31.5   22.8  26.2\n",
       "14  55 - 59  33.0   16.1  22.8\n",
       "15  60 - 64  18.2   20.6  19.5\n",
       "16     65 +   9.5   10.4  10.0\n",
       "17    Total  15.6   20.8  18.5"
      ]
     },
     "execution_count": 99,
     "metadata": {},
     "output_type": "execute_result"
    }
   ],
   "source": [
    "table5"
   ]
  },
  {
   "cell_type": "code",
   "execution_count": 100,
   "metadata": {},
   "outputs": [
    {
     "name": "stdout",
     "output_type": "stream",
     "text": [
      "AgeGroup    object\n",
      "Male        object\n",
      "Female      object\n",
      "Total       object\n",
      "dtype: object\n"
     ]
    }
   ],
   "source": [
    "print(table5.dtypes)"
   ]
  },
  {
   "cell_type": "code",
   "execution_count": 101,
   "metadata": {},
   "outputs": [
    {
     "data": {
      "text/plain": [
       "3      0.8\n",
       "4      3.5\n",
       "5      5.5\n",
       "6      3.6\n",
       "7      5.0\n",
       "8     13.2\n",
       "9     26.8\n",
       "10    35.2\n",
       "11    43.8\n",
       "12    43.0\n",
       "13    31.5\n",
       "14    33.0\n",
       "15    18.2\n",
       "16     9.5\n",
       "17    15.6\n",
       "Name: Male, dtype: object"
      ]
     },
     "execution_count": 101,
     "metadata": {},
     "output_type": "execute_result"
    }
   ],
   "source": [
    "table5[\"Male\"]"
   ]
  },
  {
   "cell_type": "code",
   "execution_count": 102,
   "metadata": {},
   "outputs": [
    {
     "name": "stdout",
     "output_type": "stream",
     "text": [
      "AgeGroup     object\n",
      "Male        float64\n",
      "Female      float64\n",
      "Total       float64\n",
      "dtype: object\n"
     ]
    }
   ],
   "source": [
    "#table5.Male = table5.Male.astype(float)\n",
    "table5['AgeGroup'] = table5.AgeGroup.astype(str)\n",
    "table5['Male'] = table5.Male.astype(float)\n",
    "table5['Female'] = table5.Female.astype(float)\n",
    "table5['Total'] = table5.Total.astype(float)\n",
    "print(table5.dtypes)"
   ]
  },
  {
   "cell_type": "code",
   "execution_count": 103,
   "metadata": {},
   "outputs": [],
   "source": [
    "table5['Male'] = table5['Male']*-1"
   ]
  },
  {
   "cell_type": "code",
   "execution_count": 104,
   "metadata": {},
   "outputs": [
    {
     "data": {
      "text/html": [
       "<div>\n",
       "<style scoped>\n",
       "    .dataframe tbody tr th:only-of-type {\n",
       "        vertical-align: middle;\n",
       "    }\n",
       "\n",
       "    .dataframe tbody tr th {\n",
       "        vertical-align: top;\n",
       "    }\n",
       "\n",
       "    .dataframe thead th {\n",
       "        text-align: right;\n",
       "    }\n",
       "</style>\n",
       "<table border=\"1\" class=\"dataframe\">\n",
       "  <thead>\n",
       "    <tr style=\"text-align: right;\">\n",
       "      <th></th>\n",
       "      <th>AgeGroup</th>\n",
       "      <th>Male</th>\n",
       "      <th>Female</th>\n",
       "      <th>Total</th>\n",
       "    </tr>\n",
       "  </thead>\n",
       "  <tbody>\n",
       "    <tr>\n",
       "      <th>3</th>\n",
       "      <td>1.5 - 4</td>\n",
       "      <td>-0.8</td>\n",
       "      <td>1.5</td>\n",
       "      <td>1.2</td>\n",
       "    </tr>\n",
       "    <tr>\n",
       "      <th>4</th>\n",
       "      <td>5-9</td>\n",
       "      <td>-3.5</td>\n",
       "      <td>5.1</td>\n",
       "      <td>4.3</td>\n",
       "    </tr>\n",
       "    <tr>\n",
       "      <th>5</th>\n",
       "      <td>10-14</td>\n",
       "      <td>-5.5</td>\n",
       "      <td>4.5</td>\n",
       "      <td>5.0</td>\n",
       "    </tr>\n",
       "    <tr>\n",
       "      <th>6</th>\n",
       "      <td>15 - 19</td>\n",
       "      <td>-3.6</td>\n",
       "      <td>6.2</td>\n",
       "      <td>5.0</td>\n",
       "    </tr>\n",
       "    <tr>\n",
       "      <th>7</th>\n",
       "      <td>20 - 24</td>\n",
       "      <td>-5.0</td>\n",
       "      <td>14.6</td>\n",
       "      <td>10.3</td>\n",
       "    </tr>\n",
       "    <tr>\n",
       "      <th>8</th>\n",
       "      <td>25 - 29</td>\n",
       "      <td>-13.2</td>\n",
       "      <td>27.1</td>\n",
       "      <td>21.2</td>\n",
       "    </tr>\n",
       "    <tr>\n",
       "      <th>9</th>\n",
       "      <td>30 - 34</td>\n",
       "      <td>-26.8</td>\n",
       "      <td>40.3</td>\n",
       "      <td>34.0</td>\n",
       "    </tr>\n",
       "    <tr>\n",
       "      <th>10</th>\n",
       "      <td>35 - 39</td>\n",
       "      <td>-35.2</td>\n",
       "      <td>50.6</td>\n",
       "      <td>43.8</td>\n",
       "    </tr>\n",
       "    <tr>\n",
       "      <th>11</th>\n",
       "      <td>40 - 44</td>\n",
       "      <td>-43.8</td>\n",
       "      <td>39.8</td>\n",
       "      <td>41.6</td>\n",
       "    </tr>\n",
       "    <tr>\n",
       "      <th>12</th>\n",
       "      <td>45 - 49</td>\n",
       "      <td>-43.0</td>\n",
       "      <td>41.6</td>\n",
       "      <td>42.2</td>\n",
       "    </tr>\n",
       "    <tr>\n",
       "      <th>13</th>\n",
       "      <td>50 - 54</td>\n",
       "      <td>-31.5</td>\n",
       "      <td>22.8</td>\n",
       "      <td>26.2</td>\n",
       "    </tr>\n",
       "    <tr>\n",
       "      <th>14</th>\n",
       "      <td>55 - 59</td>\n",
       "      <td>-33.0</td>\n",
       "      <td>16.1</td>\n",
       "      <td>22.8</td>\n",
       "    </tr>\n",
       "    <tr>\n",
       "      <th>15</th>\n",
       "      <td>60 - 64</td>\n",
       "      <td>-18.2</td>\n",
       "      <td>20.6</td>\n",
       "      <td>19.5</td>\n",
       "    </tr>\n",
       "    <tr>\n",
       "      <th>16</th>\n",
       "      <td>65 +</td>\n",
       "      <td>-9.5</td>\n",
       "      <td>10.4</td>\n",
       "      <td>10.0</td>\n",
       "    </tr>\n",
       "    <tr>\n",
       "      <th>17</th>\n",
       "      <td>Total</td>\n",
       "      <td>-15.6</td>\n",
       "      <td>20.8</td>\n",
       "      <td>18.5</td>\n",
       "    </tr>\n",
       "  </tbody>\n",
       "</table>\n",
       "</div>"
      ],
      "text/plain": [
       "   AgeGroup  Male  Female  Total\n",
       "3   1.5 - 4  -0.8     1.5    1.2\n",
       "4       5-9  -3.5     5.1    4.3\n",
       "5     10-14  -5.5     4.5    5.0\n",
       "6   15 - 19  -3.6     6.2    5.0\n",
       "7   20 - 24  -5.0    14.6   10.3\n",
       "8   25 - 29 -13.2    27.1   21.2\n",
       "9   30 - 34 -26.8    40.3   34.0\n",
       "10  35 - 39 -35.2    50.6   43.8\n",
       "11  40 - 44 -43.8    39.8   41.6\n",
       "12  45 - 49 -43.0    41.6   42.2\n",
       "13  50 - 54 -31.5    22.8   26.2\n",
       "14  55 - 59 -33.0    16.1   22.8\n",
       "15  60 - 64 -18.2    20.6   19.5\n",
       "16     65 +  -9.5    10.4   10.0\n",
       "17    Total -15.6    20.8   18.5"
      ]
     },
     "execution_count": 104,
     "metadata": {},
     "output_type": "execute_result"
    }
   ],
   "source": [
    "table5"
   ]
  },
  {
   "cell_type": "markdown",
   "metadata": {},
   "source": [
    "## Great.   Next, We will use matplotlib to build a population pyramid"
   ]
  },
  {
   "cell_type": "code",
   "execution_count": 108,
   "metadata": {},
   "outputs": [],
   "source": [
    "import matplotlib.pyplot as plt\n",
    "import matplotlib.transforms as mtrans\n",
    "import numpy as np"
   ]
  },
  {
   "cell_type": "code",
   "execution_count": 109,
   "metadata": {},
   "outputs": [],
   "source": [
    "male_pop = np.array(table5[\"Male\"])\n",
    "female_pop = np.array(table5[\"Female\"])\n",
    "X = table5[\"AgeGroup\"]"
   ]
  },
  {
   "cell_type": "code",
   "execution_count": 115,
   "metadata": {},
   "outputs": [
    {
     "data": {
      "image/png": "[encoded data removed]",
      "text/plain": [
       "<Figure size 432x288 with 1 Axes>"
      ]
     },
     "metadata": {
      "needs_background": "light"
     },
     "output_type": "display_data"
    }
   ],
   "source": [
    "fig, (ax0) = plt.subplots(nrows=1)\n",
    "plt.title(\"HIV Prevalence Rate by Sex and 5-year AgeGroup, Males=Blue, Female=Red\")\n",
    "\n",
    "plt.xlim(-100, 100)\n",
    "#xticks(np.arange(-100, 100, step=10))\n",
    "plt.barh(X, female_pop, color='r')\n",
    "plt.barh(X, male_pop, color='b')\n",
    "\n",
    "# Hide the right and top spines\n",
    "ax0.spines['right'].set_visible(False)\n",
    "ax0.spines['top'].set_visible(False)\n",
    "ax0.spines['bottom'].set_visible(False)\n",
    "ax0.spines['left'].set_visible(False)\n",
    "\n",
    "plt.show()\n",
    "\n"
   ]
  },
  {
   "cell_type": "code",
   "execution_count": null,
   "metadata": {},
   "outputs": [],
   "source": []
  }
 ],
 "metadata": {
  "kernelspec": {
   "display_name": "Python 3",
   "language": "python",
   "name": "python3"
  },
  "language_info": {
   "codemirror_mode": {
    "name": "ipython",
    "version": 3
   },
   "file_extension": ".py",
   "mimetype": "text/x-python",
   "name": "python",
   "nbconvert_exporter": "python",
   "pygments_lexer": "ipython3",
   "version": "3.6.7"
  }
 },
 "nbformat": 4,
 "nbformat_minor": 2
}
