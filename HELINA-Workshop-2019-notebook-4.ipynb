{
 "cells": [
  {
   "cell_type": "markdown",
   "metadata": {},
   "source": [
    "## Welcome to Notebook 4 of the HELINA Workshop"
   ]
  },
  {
   "cell_type": "markdown",
   "metadata": {},
   "source": [
    "### This notebook will read the pickle file of table 3 of the BAIS 2013 report and use this to create a trend graph."
   ]
  },
  {
   "cell_type": "markdown",
   "metadata": {},
   "source": [
    "### First, we will read the pickle file for table3"
   ]
  },
  {
   "cell_type": "code",
   "execution_count": 10,
   "metadata": {},
   "outputs": [],
   "source": [
    "import os\n",
    "import pickle\n",
    "import pandas as pd"
   ]
  },
  {
   "cell_type": "code",
   "execution_count": 11,
   "metadata": {},
   "outputs": [],
   "source": [
    "table3 = pd.read_pickle('table3pickle.pkl')"
   ]
  },
  {
   "cell_type": "code",
   "execution_count": 12,
   "metadata": {},
   "outputs": [
    {
     "data": {
      "text/html": [
       "<div>\n",
       "<style scoped>\n",
       "    .dataframe tbody tr th:only-of-type {\n",
       "        vertical-align: middle;\n",
       "    }\n",
       "\n",
       "    .dataframe tbody tr th {\n",
       "        vertical-align: top;\n",
       "    }\n",
       "\n",
       "    .dataframe thead th {\n",
       "        text-align: right;\n",
       "    }\n",
       "</style>\n",
       "<table border=\"1\" class=\"dataframe\">\n",
       "  <thead>\n",
       "    <tr style=\"text-align: right;\">\n",
       "      <th></th>\n",
       "      <th>Year</th>\n",
       "      <th>Male1070</th>\n",
       "      <th>Female1070</th>\n",
       "      <th>Total1070</th>\n",
       "      <th>Male1270</th>\n",
       "      <th>Female1270</th>\n",
       "      <th>Total1270</th>\n",
       "      <th>Male1565</th>\n",
       "      <th>Female1565</th>\n",
       "      <th>Total1565</th>\n",
       "    </tr>\n",
       "  </thead>\n",
       "  <tbody>\n",
       "    <tr>\n",
       "      <th>8</th>\n",
       "      <td>2003</td>\n",
       "      <td>75.3</td>\n",
       "      <td>77.9</td>\n",
       "      <td>76.6</td>\n",
       "      <td>79.6</td>\n",
       "      <td>81.8</td>\n",
       "      <td>80.9</td>\n",
       "      <td>80.4</td>\n",
       "      <td>81.8</td>\n",
       "      <td>81.2</td>\n",
       "    </tr>\n",
       "    <tr>\n",
       "      <th>9</th>\n",
       "      <td>2010</td>\n",
       "      <td>85.1</td>\n",
       "      <td>86.5</td>\n",
       "      <td>85.3</td>\n",
       "      <td>87.4</td>\n",
       "      <td>89.2</td>\n",
       "      <td>88.4</td>\n",
       "      <td>82.3</td>\n",
       "      <td>83.8</td>\n",
       "      <td>83.2</td>\n",
       "    </tr>\n",
       "    <tr>\n",
       "      <th>10</th>\n",
       "      <td>2013</td>\n",
       "      <td>82.6</td>\n",
       "      <td>86.4</td>\n",
       "      <td>84.6</td>\n",
       "      <td>83.8</td>\n",
       "      <td>85.9</td>\n",
       "      <td>84.9</td>\n",
       "      <td>84.1</td>\n",
       "      <td>87.5</td>\n",
       "      <td>85.9</td>\n",
       "    </tr>\n",
       "  </tbody>\n",
       "</table>\n",
       "</div>"
      ],
      "text/plain": [
       "    Year Male1070 Female1070 Total1070 Male1270 Female1270 Total1270 Male1565  \\\n",
       "8   2003     75.3       77.9      76.6     79.6       81.8      80.9     80.4   \n",
       "9   2010     85.1       86.5      85.3     87.4       89.2      88.4     82.3   \n",
       "10  2013     82.6       86.4      84.6     83.8       85.9      84.9     84.1   \n",
       "\n",
       "   Female1565 Total1565  \n",
       "8        81.8      81.2  \n",
       "9        83.8      83.2  \n",
       "10       87.5      85.9  "
      ]
     },
     "execution_count": 12,
     "metadata": {},
     "output_type": "execute_result"
    }
   ],
   "source": [
    "table3"
   ]
  },
  {
   "cell_type": "markdown",
   "metadata": {},
   "source": [
    "## Next, we will read the values of the data table columns into a variable name that we can plot."
   ]
  },
  {
   "cell_type": "code",
   "execution_count": 13,
   "metadata": {},
   "outputs": [],
   "source": [
    "year = table3['Year']\n",
    "male1070 = table3['Male1070']\n",
    "female1070 = table3['Female1070']\n",
    "\n",
    "male1270 = table3['Male1270']\n",
    "female1270 = table3['Female1270']\n",
    "\n",
    "male1565 = table3['Male1565']\n",
    "female1565 = table3['Female1565']\n",
    "\n"
   ]
  },
  {
   "cell_type": "markdown",
   "metadata": {},
   "source": [
    "## Next, we will import matplotlib and create a trend line graph of literacy rates by year"
   ]
  },
  {
   "cell_type": "code",
   "execution_count": 14,
   "metadata": {},
   "outputs": [],
   "source": [
    "import matplotlib.pyplot as plt\n",
    "import matplotlib.transforms as mtrans\n",
    "import numpy as np"
   ]
  },
  {
   "cell_type": "code",
   "execution_count": 38,
   "metadata": {},
   "outputs": [
    {
     "data": {
      "image/png": "[encoded data removed]",
      "text/plain": [
       "<Figure size 432x288 with 1 Axes>"
      ]
     },
     "metadata": {
      "needs_background": "light"
     },
     "output_type": "display_data"
    }
   ],
   "source": [
    "plt.plot(year, male1070, marker ='o', color ='blue')\n",
    "plt.plot(year, female1070, marker='o', color ='red')\n",
    "plt.plot(year, male1270, marker='o', color ='green')\n",
    "plt.plot(year, female1270, marker ='o', color = 'orange')\n",
    "plt.plot(year, male1565, marker ='o', color ='purple')\n",
    "plt.plot(year, female1565, marker ='o', color ='yellow')\n",
    "\n",
    "plt.xlabel('Time (Years)')\n",
    "plt.ylabel('Percent Population')\n",
    "plt.title('Literacy Rates by Sex 2003 - 2013')\n",
    "\n",
    "\n",
    "#plt.legend()\n",
    "plt.legend(bbox_to_anchor=(0, -0.15, 1, 0), loc=2, ncol=3, mode=\"expand\", borderaxespad=0)\n",
    "plt.show()"
   ]
  },
  {
   "cell_type": "code",
   "execution_count": null,
   "metadata": {},
   "outputs": [],
   "source": []
  },
  {
   "cell_type": "code",
   "execution_count": null,
   "metadata": {},
   "outputs": [],
   "source": []
  },
  {
   "cell_type": "code",
   "execution_count": null,
   "metadata": {},
   "outputs": [],
   "source": []
  }
 ],
 "metadata": {
  "kernelspec": {
   "display_name": "Python 3",
   "language": "python",
   "name": "python3"
  },
  "language_info": {
   "codemirror_mode": {
    "name": "ipython",
    "version": 3
   },
   "file_extension": ".py",
   "mimetype": "text/x-python",
   "name": "python",
   "nbconvert_exporter": "python",
   "pygments_lexer": "ipython3",
   "version": "3.6.7"
  }
 },
 "nbformat": 4,
 "nbformat_minor": 2
}
