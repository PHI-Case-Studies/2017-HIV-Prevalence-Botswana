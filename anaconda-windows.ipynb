{
 "cells": [
  {
   "cell_type": "markdown",
   "metadata": {},
   "source": [
    "## Run all cells below"
   ]
  },
  {
   "cell_type": "code",
   "execution_count": 1,
   "metadata": {},
   "outputs": [
    {
     "name": "stdout",
     "output_type": "stream",
     "text": [
      "Collecting package metadata (repodata.json): ...working... done\n",
      "Solving environment: ...working... done\n",
      "\n",
      "## Package Plan ##\n",
      "\n",
      "  environment location: /Users/hermantolentino/anaconda3/envs/case-python3\n",
      "\n",
      "  added / updated specs:\n",
      "    - python=3.6\n",
      "\n",
      "\n",
      "The following NEW packages will be INSTALLED:\n",
      "\n",
      "  ca-certificates    conda-forge/osx-64::ca-certificates-2019.9.11-hecc5488_0\n",
      "  certifi            conda-forge/osx-64::certifi-2019.9.11-py36_0\n",
      "  libcxx             conda-forge/osx-64::libcxx-9.0.0-h89e68fa_1\n",
      "  libffi             conda-forge/osx-64::libffi-3.2.1-h6de7cb9_1006\n",
      "  ncurses            conda-forge/osx-64::ncurses-6.1-h0a44026_1002\n",
      "  openssl            conda-forge/osx-64::openssl-1.1.1d-h0b31af3_0\n",
      "  pip                conda-forge/osx-64::pip-19.3.1-py36_0\n",
      "  python             conda-forge/osx-64::python-3.6.7-h4285619_1006\n",
      "  readline           conda-forge/osx-64::readline-8.0-hcfe32e1_0\n",
      "  setuptools         conda-forge/osx-64::setuptools-41.6.0-py36_1\n",
      "  sqlite             conda-forge/osx-64::sqlite-3.30.1-h93121df_0\n",
      "  tk                 conda-forge/osx-64::tk-8.6.9-h2573ce8_1003\n",
      "  wheel              conda-forge/osx-64::wheel-0.33.6-py36_0\n",
      "  xz                 conda-forge/osx-64::xz-5.2.4-h1de35cc_1001\n",
      "  zlib               conda-forge/osx-64::zlib-1.2.11-h0b31af3_1006\n",
      "\n",
      "\n",
      "Preparing transaction: ...working... done\n",
      "Verifying transaction: ...working... done\n",
      "Executing transaction: ...working... done\n",
      "#\n",
      "# To activate this environment, use\n",
      "#\n",
      "#     $ conda activate case-python3\n",
      "#\n",
      "# To deactivate an active environment, use\n",
      "#\n",
      "#     $ conda deactivate\n",
      "\n"
     ]
    },
    {
     "name": "stderr",
     "output_type": "stream",
     "text": [
      "Warning: 'conda-forge' already in 'channels' list, moving to the top\n"
     ]
    }
   ],
   "source": [
    "%%bash\n",
    "conda config --add channels conda-forge\n",
    "conda create -n case-python3 python=3.6 --yes"
   ]
  },
  {
   "cell_type": "code",
   "execution_count": 3,
   "metadata": {},
   "outputs": [
    {
     "name": "stdout",
     "output_type": "stream",
     "text": [
      "Installed kernelspec case-python3 in /Users/hermantolentino/Library/Jupyter/kernels/case-python3\n"
     ]
    }
   ],
   "source": [
    "%%bash\n",
    "python -m ipykernel install --user --name=case-python3"
   ]
  },
  {
   "cell_type": "code",
   "execution_count": 6,
   "metadata": {},
   "outputs": [
    {
     "name": "stdout",
     "output_type": "stream",
     "text": [
      "no change     /Users/hermantolentino/anaconda3/condabin/conda\n",
      "no change     /Users/hermantolentino/anaconda3/bin/conda\n",
      "no change     /Users/hermantolentino/anaconda3/bin/conda-env\n",
      "no change     /Users/hermantolentino/anaconda3/bin/activate\n",
      "no change     /Users/hermantolentino/anaconda3/bin/deactivate\n",
      "no change     /Users/hermantolentino/anaconda3/etc/profile.d/conda.sh\n",
      "no change     /Users/hermantolentino/anaconda3/etc/fish/conf.d/conda.fish\n",
      "no change     /Users/hermantolentino/anaconda3/shell/condabin/Conda.psm1\n",
      "no change     /Users/hermantolentino/anaconda3/shell/condabin/conda-hook.ps1\n",
      "no change     /Users/hermantolentino/anaconda3/lib/python3.6/site-packages/xontrib/conda.xsh\n",
      "no change     /Users/hermantolentino/anaconda3/etc/profile.d/conda.csh\n",
      "No action taken.\n"
     ]
    }
   ],
   "source": [
    "%%bash\n",
    "conda init powershell"
   ]
  },
  {
   "cell_type": "code",
   "execution_count": 7,
   "metadata": {},
   "outputs": [],
   "source": [
    "%%bash\n",
    "activate case-python3"
   ]
  },
  {
   "cell_type": "code",
   "execution_count": 8,
   "metadata": {},
   "outputs": [
    {
     "name": "stdout",
     "output_type": "stream",
     "text": [
      "Requirement already up-to-date: pip in /Users/hermantolentino/anaconda3/lib/python3.6/site-packages (19.3.1)\n",
      "Requirement already satisfied: ipykernel in /Users/hermantolentino/anaconda3/lib/python3.6/site-packages (5.1.3)\n",
      "Requirement already satisfied: tornado>=4.2 in /Users/hermantolentino/anaconda3/lib/python3.6/site-packages (from ipykernel) (6.0.3)\n",
      "Requirement already satisfied: jupyter-client in /Users/hermantolentino/anaconda3/lib/python3.6/site-packages (from ipykernel) (5.3.4)\n",
      "Requirement already satisfied: appnope; platform_system == \"Darwin\" in /Users/hermantolentino/anaconda3/lib/python3.6/site-packages (from ipykernel) (0.1.0)\n",
      "Requirement already satisfied: ipython>=5.0.0 in /Users/hermantolentino/anaconda3/lib/python3.6/site-packages (from ipykernel) (7.9.0)\n",
      "Requirement already satisfied: traitlets>=4.1.0 in /Users/hermantolentino/anaconda3/lib/python3.6/site-packages (from ipykernel) (4.3.3)\n",
      "Requirement already satisfied: pyzmq>=13 in /Users/hermantolentino/anaconda3/lib/python3.6/site-packages (from jupyter-client->ipykernel) (18.1.0)\n",
      "Requirement already satisfied: jupyter-core>=4.6.0 in /Users/hermantolentino/anaconda3/lib/python3.6/site-packages (from jupyter-client->ipykernel) (4.6.1)\n",
      "Requirement already satisfied: python-dateutil>=2.1 in /Users/hermantolentino/anaconda3/lib/python3.6/site-packages (from jupyter-client->ipykernel) (2.8.1)\n",
      "Requirement already satisfied: backcall in /Users/hermantolentino/anaconda3/lib/python3.6/site-packages (from ipython>=5.0.0->ipykernel) (0.1.0)\n",
      "Requirement already satisfied: pygments in /Users/hermantolentino/anaconda3/lib/python3.6/site-packages (from ipython>=5.0.0->ipykernel) (2.4.2)\n",
      "Requirement already satisfied: pickleshare in /Users/hermantolentino/anaconda3/lib/python3.6/site-packages (from ipython>=5.0.0->ipykernel) (0.7.5)\n",
      "Requirement already satisfied: decorator in /Users/hermantolentino/anaconda3/lib/python3.6/site-packages (from ipython>=5.0.0->ipykernel) (4.4.1)\n",
      "Requirement already satisfied: pexpect; sys_platform != \"win32\" in /Users/hermantolentino/anaconda3/lib/python3.6/site-packages (from ipython>=5.0.0->ipykernel) (4.7.0)\n",
      "Requirement already satisfied: prompt-toolkit<2.1.0,>=2.0.0 in /Users/hermantolentino/anaconda3/lib/python3.6/site-packages (from ipython>=5.0.0->ipykernel) (2.0.10)\n",
      "Requirement already satisfied: setuptools>=18.5 in /Users/hermantolentino/anaconda3/lib/python3.6/site-packages (from ipython>=5.0.0->ipykernel) (41.6.0.post20191030)\n",
      "Requirement already satisfied: jedi>=0.10 in /Users/hermantolentino/anaconda3/lib/python3.6/site-packages (from ipython>=5.0.0->ipykernel) (0.15.1)\n",
      "Requirement already satisfied: ipython-genutils in /Users/hermantolentino/anaconda3/lib/python3.6/site-packages (from traitlets>=4.1.0->ipykernel) (0.2.0)\n",
      "Requirement already satisfied: six in /Users/hermantolentino/anaconda3/lib/python3.6/site-packages (from traitlets>=4.1.0->ipykernel) (1.12.0)\n",
      "Requirement already satisfied: ptyprocess>=0.5 in /Users/hermantolentino/anaconda3/lib/python3.6/site-packages (from pexpect; sys_platform != \"win32\"->ipython>=5.0.0->ipykernel) (0.6.0)\n",
      "Requirement already satisfied: wcwidth in /Users/hermantolentino/anaconda3/lib/python3.6/site-packages (from prompt-toolkit<2.1.0,>=2.0.0->ipython>=5.0.0->ipykernel) (0.1.7)\n",
      "Requirement already satisfied: parso>=0.5.0 in /Users/hermantolentino/anaconda3/lib/python3.6/site-packages (from jedi>=0.10->ipython>=5.0.0->ipykernel) (0.5.1)\n"
     ]
    }
   ],
   "source": [
    "%%bash\n",
    "pip install --upgrade pip\n",
    "pip install --user ipykernel"
   ]
  },
  {
   "cell_type": "code",
   "execution_count": 9,
   "metadata": {
    "scrolled": false
   },
   "outputs": [
    {
     "name": "stdout",
     "output_type": "stream",
     "text": [
      "Collecting package metadata (repodata.json): ...working... done\n",
      "Solving environment: ...working... done\n",
      "\n",
      "# All requested packages already installed.\n",
      "\n",
      "Collecting package metadata (repodata.json): ...working... done\n",
      "Solving environment: ...working... done\n",
      "\n",
      "# All requested packages already installed.\n",
      "\n",
      "Collecting package metadata (repodata.json): ...working... done\n",
      "Solving environment: ...working... done\n",
      "\n",
      "# All requested packages already installed.\n",
      "\n"
     ]
    }
   ],
   "source": [
    "%%bash\n",
    "conda install -y -n case-python3 'matplotlib-base=3.1*' 'matplotlib=3.1*' 'opencv=4.1*' 'camelot-py=0.7*'\n",
    "conda install -y -n case-python3 'folium=0.10*' 'jinja2=2.10*' 'pandas=0.25*' 'geopandas=0.5*' 'gdal=2.4*' 'poppler=0.67*' 'poppler-data=0.4*' \n",
    "conda install -y -n case-python3 'descartes=1.1*'"
   ]
  },
  {
   "cell_type": "code",
   "execution_count": 10,
   "metadata": {},
   "outputs": [
    {
     "name": "stdout",
     "output_type": "stream",
     "text": [
      "Requirement already satisfied: opencv-python in /Users/hermantolentino/anaconda3/lib/python3.6/site-packages (4.1.1.26)\n",
      "Requirement already satisfied: opencv-contrib-python in /Users/hermantolentino/anaconda3/lib/python3.6/site-packages (4.1.1.26)\n",
      "Requirement already satisfied: numpy>=1.11.3 in /Users/hermantolentino/anaconda3/lib/python3.6/site-packages (from opencv-python) (1.17.3)\n"
     ]
    }
   ],
   "source": [
    "%%bash\n",
    "pip install 'opencv-python' 'opencv-contrib-python'"
   ]
  },
  {
   "cell_type": "code",
   "execution_count": 11,
   "metadata": {},
   "outputs": [
    {
     "name": "stdout",
     "output_type": "stream",
     "text": [
      "# packages in environment at /Users/hermantolentino/anaconda3/envs/case-python3:\r\n",
      "#\r\n",
      "# Name                    Version                   Build  Channel\r\n",
      "altair                    3.2.0                    py36_0    conda-forge\r\n",
      "attrs                     19.3.0                     py_0    conda-forge\r\n",
      "boost-cpp                 1.70.0               h75728bb_2    conda-forge\r\n",
      "branca                    0.3.1                      py_0    conda-forge\r\n",
      "bzip2                     1.0.8                h01d97ff_1    conda-forge\r\n",
      "ca-certificates           2019.9.11            hecc5488_0    conda-forge\r\n",
      "cairo                     1.16.0            he1c11cd_1002    conda-forge\r\n",
      "camelot-py                0.7.3                    py36_0    conda-forge\r\n",
      "certifi                   2019.9.11                py36_0    conda-forge\r\n",
      "cffi                      1.13.2           py36h33e799b_0    conda-forge\r\n",
      "cfitsio                   3.470                h84d2f63_2    conda-forge\r\n",
      "chardet                   3.0.4                 py36_1003    conda-forge\r\n",
      "click                     7.0                        py_0    conda-forge\r\n",
      "click-plugins             1.1.1                      py_0    conda-forge\r\n",
      "cligj                     0.5.0                      py_0    conda-forge\r\n",
      "cryptography              2.8              py36hafa8578_0    conda-forge\r\n",
      "curl                      7.65.3               h22ea746_0    conda-forge\r\n",
      "cycler                    0.10.0                     py_2    conda-forge\r\n",
      "descartes                 1.1.0                      py_4    conda-forge\r\n",
      "entrypoints               0.3                   py36_1000    conda-forge\r\n",
      "et_xmlfile                1.0.1                   py_1001    conda-forge\r\n",
      "expat                     2.2.5             h4a8c4bd_1004    conda-forge\r\n",
      "ffmpeg                    4.1.3                h5c2b479_0    conda-forge\r\n",
      "fiona                     1.8.9.post2      py36h238e834_0    conda-forge\r\n",
      "folium                    0.10.0                     py_0    conda-forge\r\n",
      "fontconfig                2.13.1            h6b1039f_1001    conda-forge\r\n",
      "freetype                  2.10.0               h24853df_1    conda-forge\r\n",
      "freexl                    1.0.5             h1de35cc_1002    conda-forge\r\n",
      "gdal                      2.4.3            py36h1304821_8    conda-forge\r\n",
      "geopandas                 0.5.1                      py_0    conda-forge\r\n",
      "geos                      3.7.2                h6de7cb9_2    conda-forge\r\n",
      "geotiff                   1.5.1                h2bcb450_3    conda-forge\r\n",
      "gettext                   0.19.8.1          h46ab8bc_1002    conda-forge\r\n",
      "ghostscript               9.22              h0a44026_1001    conda-forge\r\n",
      "giflib                    5.1.7                h01d97ff_1    conda-forge\r\n",
      "glib                      2.58.3          py36h577aef8_1002    conda-forge\r\n",
      "gmp                       6.1.2             h0a44026_1000    conda-forge\r\n",
      "gnutls                    3.6.5             h53004b3_1002    conda-forge\r\n",
      "graphite2                 1.3.13            h2098e52_1000    conda-forge\r\n",
      "harfbuzz                  2.4.0                hd8d2a14_3    conda-forge\r\n",
      "hdf4                      4.2.13            h84186c3_1003    conda-forge\r\n",
      "hdf5                      1.10.5          nompi_h3e39495_1104    conda-forge\r\n",
      "icu                       64.2                 h6de7cb9_1    conda-forge\r\n",
      "idna                      2.8                   py36_1000    conda-forge\r\n",
      "importlib_metadata        0.23                     py36_0    conda-forge\r\n",
      "jasper                    1.900.1           h636a363_1006    conda-forge\r\n",
      "jdcal                     1.4.1                      py_0    conda-forge\r\n",
      "jinja2                    2.10.3                     py_0    conda-forge\r\n",
      "jpeg                      9c                h1de35cc_1001    conda-forge\r\n",
      "json-c                    0.13.1            h1de35cc_1001    conda-forge\r\n",
      "jsonschema                3.1.1                    py36_0    conda-forge\r\n",
      "kealib                    1.4.10            h6659575_1005    conda-forge\r\n",
      "kiwisolver                1.1.0            py36ha1b3eb9_0    conda-forge\r\n",
      "krb5                      1.16.3            hcfa6398_1001    conda-forge\r\n",
      "lame                      3.100             h1de35cc_1001    conda-forge\r\n",
      "libblas                   3.8.0               14_openblas    conda-forge\r\n",
      "libcblas                  3.8.0               14_openblas    conda-forge\r\n",
      "libcurl                   7.65.3               h16faf7d_0    conda-forge\r\n",
      "libcxx                    9.0.0                h89e68fa_1    conda-forge\r\n",
      "libdap4                   3.20.4               habf5908_0    conda-forge\r\n",
      "libedit                   3.1.20170329      hcfe32e1_1001    conda-forge\r\n",
      "libffi                    3.2.1             h6de7cb9_1006    conda-forge\r\n",
      "libgdal                   2.4.3                h48e9a63_8    conda-forge\r\n",
      "libgfortran               4.0.0                         2    conda-forge\r\n",
      "libiconv                  1.15              h01d97ff_1005    conda-forge\r\n",
      "libkml                    1.3.0             hed7d534_1010    conda-forge\r\n",
      "liblapack                 3.8.0               14_openblas    conda-forge\r\n",
      "liblapacke                3.8.0               14_openblas    conda-forge\r\n",
      "libnetcdf                 4.7.1           nompi_he14bcb6_101    conda-forge\r\n",
      "libopenblas               0.3.7                h4bb4525_3    conda-forge\r\n",
      "libopencv                 4.1.1                hb60cc42_3    conda-forge\r\n",
      "libpng                    1.6.37               h2573ce8_0    conda-forge\r\n",
      "libpq                     11.5                 h31a01ba_2    conda-forge\r\n",
      "libspatialindex           1.9.3                h4a8c4bd_1    conda-forge\r\n",
      "libspatialite             4.3.0a            hd0a3780_1030    conda-forge\r\n",
      "libssh2                   1.8.2                hcdc9a53_2    conda-forge\r\n",
      "libtiff                   4.1.0                h3527a1b_0    conda-forge\r\n",
      "libwebp                   1.0.2                h14d73da_2    conda-forge\r\n",
      "libxml2                   2.9.10               h53d96d6_0    conda-forge\r\n",
      "llvm-openmp               9.0.0                h40edb58_0    conda-forge\r\n",
      "lz4-c                     1.8.3             h6de7cb9_1001    conda-forge\r\n",
      "markupsafe                1.1.1            py36h0b31af3_0    conda-forge\r\n",
      "matplotlib                3.1.2                    py36_1    conda-forge\r\n",
      "matplotlib-base           3.1.2            py36h11da6c2_1    conda-forge\r\n",
      "more-itertools            7.2.0                      py_0    conda-forge\r\n",
      "munch                     2.5.0                      py_0    conda-forge\r\n",
      "ncurses                   6.1               h0a44026_1002    conda-forge\r\n",
      "nettle                    3.4.1             h3efe00b_1002    conda-forge\r\n",
      "numpy                     1.17.3           py36hde6bac1_0    conda-forge\r\n",
      "opencv                    4.1.1                         3    conda-forge\r\n",
      "openh264                  1.8.0             hd9629dc_1000    conda-forge\r\n",
      "openjpeg                  2.3.1                hdc36067_1    conda-forge\r\n",
      "openpyxl                  3.0.1                      py_0    conda-forge\r\n",
      "openssl                   1.1.1d               h0b31af3_0    conda-forge\r\n",
      "pandas                    0.25.3           py36h4f17bb1_0    conda-forge\r\n",
      "pcre                      8.43                 h4a8c4bd_0    conda-forge\r\n",
      "pdfminer.six              20191020                   py_0    conda-forge\r\n",
      "pip                       19.3.1                   py36_0    conda-forge\r\n",
      "pixman                    0.38.0            h01d97ff_1003    conda-forge\r\n",
      "poppler                   0.67.0               hd5eb092_7    conda-forge\r\n",
      "poppler-data              0.4.9                         1    conda-forge\r\n",
      "postgresql                11.5                 h26bc10f_2    conda-forge\r\n",
      "proj4                     6.1.1                hca663eb_1    conda-forge\r\n",
      "py-opencv                 4.1.1            py36h5ca1d4c_3    conda-forge\r\n",
      "pycparser                 2.19                     py36_1    conda-forge\r\n",
      "pycryptodome              3.9.3            py36h65ac59c_0    conda-forge\r\n",
      "pyopenssl                 19.0.0                   py36_0    conda-forge\r\n",
      "pyparsing                 2.4.5                      py_0    conda-forge\r\n",
      "pypdf2                    1.26.0                     py_2    conda-forge\r\n",
      "pyproj                    2.3.1            py36h9bb365a_0    conda-forge\r\n",
      "pyrsistent                0.15.5           py36h0b31af3_0    conda-forge\r\n",
      "pysocks                   1.7.1                    py36_0    conda-forge\r\n",
      "python                    3.6.7             h4285619_1006    conda-forge\r\n",
      "python-dateutil           2.8.1                      py_0    conda-forge\r\n",
      "pytz                      2019.3                     py_0    conda-forge\r\n",
      "readline                  8.0                  hcfe32e1_0    conda-forge\r\n",
      "requests                  2.22.0                   py36_1    conda-forge\r\n",
      "rtree                     0.8.3           py36h7b0cdae_1003    conda-forge\r\n",
      "setuptools                41.6.0                   py36_1    conda-forge\r\n",
      "shapely                   1.6.4           py36h5c88e11_1006    conda-forge\r\n",
      "six                       1.13.0                   py36_0    conda-forge\r\n",
      "sortedcontainers          2.1.0                      py_0    conda-forge\r\n",
      "sqlite                    3.30.1               h93121df_0    conda-forge\r\n",
      "tk                        8.6.9             h2573ce8_1003    conda-forge\r\n",
      "toolz                     0.10.0                     py_0    conda-forge\r\n",
      "tornado                   6.0.3            py36h0b31af3_0    conda-forge\r\n",
      "tzcode                    2019a             h01d97ff_1002    conda-forge\r\n",
      "urllib3                   1.25.7                   py36_0    conda-forge\r\n",
      "vincent                   0.4.4                      py_1    conda-forge\r\n",
      "wheel                     0.33.6                   py36_0    conda-forge\r\n",
      "x264                      1!152.20180806       h1de35cc_0    conda-forge\r\n",
      "xerces-c                  3.2.2             hbda6038_1004    conda-forge\r\n",
      "xz                        5.2.4             h1de35cc_1001    conda-forge\r\n",
      "zipp                      0.6.0                      py_0    conda-forge\r\n",
      "zlib                      1.2.11            h0b31af3_1006    conda-forge\r\n",
      "zstd                      1.4.3                he7fca8b_0    conda-forge\r\n"
     ]
    },
    {
     "name": "stdout",
     "output_type": "stream",
     "text": [
      "\n",
      "Note: you may need to restart the kernel to use updated packages.\n"
     ]
    }
   ],
   "source": [
    "conda list -n case-python3"
   ]
  },
  {
   "cell_type": "code",
   "execution_count": null,
   "metadata": {},
   "outputs": [],
   "source": []
  }
 ],
 "metadata": {
  "kernelspec": {
   "display_name": "Python 3",
   "language": "python",
   "name": "python3"
  },
  "language_info": {
   "codemirror_mode": {
    "name": "ipython",
    "version": 3
   },
   "file_extension": ".py",
   "mimetype": "text/x-python",
   "name": "python",
   "nbconvert_exporter": "python",
   "pygments_lexer": "ipython3",
   "version": "3.6.7"
  }
 },
 "nbformat": 4,
 "nbformat_minor": 2
}
